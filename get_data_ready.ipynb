{
 "cells": [
  {
   "cell_type": "code",
   "execution_count": 1,
   "id": "d18454c4",
   "metadata": {},
   "outputs": [
    {
     "name": "stdout",
     "output_type": "stream",
     "text": [
      "3.9.13 (main, Aug 25 2022, 23:51:50) [MSC v.1916 64 bit (AMD64)]\n"
     ]
    }
   ],
   "source": [
    "import sys\n",
    "print(sys.version)"
   ]
  },
  {
   "cell_type": "code",
   "execution_count": 2,
   "id": "b02dd212",
   "metadata": {},
   "outputs": [],
   "source": [
    "from dotenv import load_dotenv\n",
    "import os\n",
    "import pandas as pd"
   ]
  },
  {
   "cell_type": "code",
   "execution_count": 3,
   "id": "ebaf95b7",
   "metadata": {},
   "outputs": [
    {
     "data": {
      "text/plain": [
       "True"
      ]
     },
     "execution_count": 3,
     "metadata": {},
     "output_type": "execute_result"
    }
   ],
   "source": [
    "load_dotenv()"
   ]
  },
  {
   "cell_type": "code",
   "execution_count": null,
   "id": "228616f2",
   "metadata": {},
   "outputs": [],
   "source": [
    "# Change directory:\n",
    "os.chdir(r\"C:\\path\")\n",
    "# Get acutal path\n",
    "os.getcwd()"
   ]
  },
  {
   "cell_type": "code",
   "execution_count": 4,
   "id": "6b7fc10e",
   "metadata": {},
   "outputs": [],
   "source": [
    "dataBaseName = \"\""
   ]
  },
  {
   "cell_type": "code",
   "execution_count": 5,
   "id": "2c9d56fe",
   "metadata": {},
   "outputs": [],
   "source": [
    "df = pd.read_csv(os.getenv(\"WORK_PATH\") + dataBaseName + \".csv\", encoding = \"ISO-8859-1\", engine='python')"
   ]
  },
  {
   "cell_type": "code",
   "execution_count": 5,
   "id": "55e3f5d7",
   "metadata": {},
   "outputs": [],
   "source": [
    "# Rows & Columns\n",
    "df.shape"
   ]
  },
  {
   "cell_type": "code",
   "execution_count": 6,
   "id": "5d2f18b8",
   "metadata": {},
   "outputs": [],
   "source": [
    "# Get colnames\n",
    "colnames_list = df.columns.tolist()\n",
    "colnames_list"
   ]
  },
  {
   "cell_type": "code",
   "execution_count": 7,
   "id": "0f365476",
   "metadata": {},
   "outputs": [],
   "source": [
    "# Check columns with nulls\n",
    "df.isnull().sum()"
   ]
  },
  {
   "cell_type": "code",
   "execution_count": 8,
   "id": "fc7b2a11",
   "metadata": {},
   "outputs": [],
   "source": [
    "# Get number variables and description\n",
    "df.describe()"
   ]
  },
  {
   "cell_type": "code",
   "execution_count": 9,
   "id": "9e87700e",
   "metadata": {},
   "outputs": [],
   "source": [
    "# Get number of variables and the description but just names\n",
    "quantitative_colnames_list = list(df.describe())\n",
    "quantitative_colnames_list"
   ]
  },
  {
   "cell_type": "code",
   "execution_count": 10,
   "id": "19e78bbd",
   "metadata": {},
   "outputs": [],
   "source": [
    "# Get no-number variables but just names\n",
    "qualitative_colnames_lsit = list(set(colnames_list) - set(quantitative_colnames_list))\n",
    "qualitative_colnames_lsit"
   ]
  },
  {
   "cell_type": "markdown",
   "id": "b16d6050",
   "metadata": {},
   "source": [
    "# Check"
   ]
  },
  {
   "cell_type": "code",
   "execution_count": 11,
   "id": "270d319f",
   "metadata": {},
   "outputs": [],
   "source": [
    "variable_colname = \"\""
   ]
  },
  {
   "cell_type": "code",
   "execution_count": 12,
   "id": "2c7685f4",
   "metadata": {},
   "outputs": [],
   "source": [
    "# Mini check of a no-number variable \n",
    "df.loc[:, variable_colname].value_counts()"
   ]
  },
  {
   "cell_type": "code",
   "execution_count": 13,
   "id": "bbb7bcaf",
   "metadata": {},
   "outputs": [],
   "source": [
    "properties_that_variable = df.loc[:, variable_colname].value_counts().index.tolist()\n",
    "properties_that_variable"
   ]
  },
  {
   "cell_type": "code",
   "execution_count": 14,
   "id": "40556f2e",
   "metadata": {},
   "outputs": [],
   "source": [
    "len(properties_that_variable)"
   ]
  },
  {
   "cell_type": "code",
   "execution_count": 15,
   "id": "59b3e25e",
   "metadata": {},
   "outputs": [],
   "source": [
    "max(df.loc[:, variable_colname])"
   ]
  },
  {
   "cell_type": "code",
   "execution_count": null,
   "id": "7614496e",
   "metadata": {},
   "outputs": [],
   "source": [
    "# Lambda function\n",
    "df[\"\"] = df.apply(lambda x: f(x.col1, x.col2), axis=1)"
   ]
  },
  {
   "cell_type": "code",
   "execution_count": null,
   "id": "5e9d857d",
   "metadata": {},
   "outputs": [],
   "source": [
    "# Particular case: Check null value\n",
    "dft[''] = df[''].apply(lambda x: value if pd.isnull(x) else x)"
   ]
  },
  {
   "cell_type": "code",
   "execution_count": null,
   "id": "a79aa970",
   "metadata": {},
   "outputs": [],
   "source": [
    "# Other cases:\n",
    "def functionWhatever(x):\n",
    "    if x == \"\":\n",
    "        return \n",
    "    else:\n",
    "        return \n",
    "dft[''] = df[''].apply(functionWhatever)"
   ]
  }
 ],
 "metadata": {
  "hide_input": false,
  "kernelspec": {
   "display_name": "Python 3",
   "language": "python",
   "name": "python3"
  },
  "language_info": {
   "codemirror_mode": {
    "name": "ipython",
    "version": 3
   },
   "file_extension": ".py",
   "mimetype": "text/x-python",
   "name": "python",
   "nbconvert_exporter": "python",
   "pygments_lexer": "ipython3",
   "version": "3.9.13"
  }
 },
 "nbformat": 4,
 "nbformat_minor": 5
}
